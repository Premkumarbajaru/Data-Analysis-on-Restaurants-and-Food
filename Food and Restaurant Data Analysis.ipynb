{
 "cells": [
  {
   "cell_type": "code",
   "execution_count": 36,
   "id": "0bc050b2-a2a3-44f2-8a2a-4fbf6c81cfd7",
   "metadata": {},
   "outputs": [],
   "source": [
    "import pandas as pd\n",
    "import numpy as np\n",
    "import matplotlib.pyplot as plt\n",
    "import seaborn as sns\n",
    "\n",
    "\n"
   ]
  },
  {
   "cell_type": "code",
   "execution_count": 37,
   "id": "3743e421-a389-44b0-8990-a97f525763a9",
   "metadata": {},
   "outputs": [],
   "source": [
    "#  Load the Dataset\n",
    "df = pd.read_csv(r\"C:\\Users\\PREMKUMAR BAJARU\\Desktop\\Food-and-Restaurant-Data-Analysis-Hackathon\\zomato_data.csv\")"
   ]
  },
  {
   "cell_type": "code",
   "execution_count": 38,
   "id": "b8886aa0-5c01-4150-921a-67ecfa950158",
   "metadata": {},
   "outputs": [
    {
     "name": "stdout",
     "output_type": "stream",
     "text": [
      "  online_order book_table   rate  votes            rest_type  \\\n",
      "0          Yes        Yes  4.1/5    775        Casual Dining   \n",
      "1          Yes         No  4.1/5    787        Casual Dining   \n",
      "2          Yes         No  3.8/5    918  Cafe, Casual Dining   \n",
      "3           No         No  3.7/5     88          Quick Bites   \n",
      "4           No         No  3.8/5    166        Casual Dining   \n",
      "\n",
      "                                          dish_liked  \\\n",
      "0  Pasta, Lunch Buffet, Masala Papad, Paneer Laja...   \n",
      "1  Momos, Lunch Buffet, Chocolate Nirvana, Thai G...   \n",
      "2  Churros, Cannelloni, Minestrone Soup, Hot Choc...   \n",
      "3                                        Masala Dosa   \n",
      "4                                Panipuri, Gol Gappe   \n",
      "\n",
      "                         cuisines approx_costfor_two_people listed_intype  \\\n",
      "0  North Indian, Mughlai, Chinese                       800        Buffet   \n",
      "1     Chinese, North Indian, Thai                       800        Buffet   \n",
      "2          Cafe, Mexican, Italian                       800        Buffet   \n",
      "3      South Indian, North Indian                       300        Buffet   \n",
      "4        North Indian, Rajasthani                       600        Buffet   \n",
      "\n",
      "  listed_incity  \n",
      "0  Banashankari  \n",
      "1  Banashankari  \n",
      "2  Banashankari  \n",
      "3  Banashankari  \n",
      "4  Banashankari  \n",
      "<class 'pandas.core.frame.DataFrame'>\n",
      "RangeIndex: 51717 entries, 0 to 51716\n",
      "Data columns (total 10 columns):\n",
      " #   Column                     Non-Null Count  Dtype \n",
      "---  ------                     --------------  ----- \n",
      " 0   online_order               51717 non-null  object\n",
      " 1   book_table                 51717 non-null  object\n",
      " 2   rate                       43942 non-null  object\n",
      " 3   votes                      51717 non-null  int64 \n",
      " 4   rest_type                  51490 non-null  object\n",
      " 5   dish_liked                 23639 non-null  object\n",
      " 6   cuisines                   51672 non-null  object\n",
      " 7   approx_costfor_two_people  51371 non-null  object\n",
      " 8   listed_intype              51717 non-null  object\n",
      " 9   listed_incity              51717 non-null  object\n",
      "dtypes: int64(1), object(9)\n",
      "memory usage: 3.9+ MB\n",
      "None\n",
      "              votes\n",
      "count  51717.000000\n",
      "mean     283.697527\n",
      "std      803.838853\n",
      "min        0.000000\n",
      "25%        7.000000\n",
      "50%       41.000000\n",
      "75%      198.000000\n",
      "max    16832.000000\n"
     ]
    }
   ],
   "source": [
    "print(df.head())\n",
    "print(df.info())\n",
    "print(df.describe())"
   ]
  },
  {
   "cell_type": "code",
   "execution_count": 39,
   "id": "dc99de42-d4d5-4d55-a424-630f61809524",
   "metadata": {},
   "outputs": [],
   "source": [
    "df['rate'] = df['rate'].replace(['NEW', '-', 'nan'], np.nan)\n",
    "df['rate'] = df['rate'].astype(str).str.replace('/5', '').str.strip()\n",
    "df['rate'] = pd.to_numeric(df['rate'], errors='coerce')\n",
    "df['rate'] = df['rate'].fillna(df['rate'].median())"
   ]
  },
  {
   "cell_type": "code",
   "execution_count": 40,
   "id": "5a00e732-a830-4ee9-82a7-5dcc84910b49",
   "metadata": {},
   "outputs": [
    {
     "name": "stdout",
     "output_type": "stream",
     "text": [
      "Index(['online_order', 'book_table', 'rate', 'votes', 'rest_type',\n",
      "       'dish_liked', 'cuisines', 'approx_costfor_two_people', 'listed_intype',\n",
      "       'listed_incity'],\n",
      "      dtype='object')\n"
     ]
    }
   ],
   "source": [
    "print(df.columns)"
   ]
  },
  {
   "cell_type": "code",
   "execution_count": 41,
   "id": "34141e3a-aa3f-424a-98c6-9311d11392f7",
   "metadata": {},
   "outputs": [],
   "source": [
    "df.rename(columns={'approx_costfor_two_people': 'cost'}, inplace=True)\n"
   ]
  },
  {
   "cell_type": "code",
   "execution_count": 42,
   "id": "363a998e-24c5-4bcc-9a65-b6831d8ecad3",
   "metadata": {},
   "outputs": [],
   "source": [
    "df['cost'] = df['cost'].astype(str).str.replace(',', '').str.strip()\n",
    "df['cost'] = pd.to_numeric(df['cost'], errors='coerce')\n",
    "df['cost'] = df['cost'].fillna(df['cost'].median())\n"
   ]
  },
  {
   "cell_type": "code",
   "execution_count": 43,
   "id": "787af642-4d36-4575-a909-59ec98be3d44",
   "metadata": {},
   "outputs": [
    {
     "data": {
      "text/plain": [
       "online_order         0\n",
       "book_table           0\n",
       "rate                 0\n",
       "votes                0\n",
       "rest_type          227\n",
       "dish_liked       28078\n",
       "cuisines            45\n",
       "cost                 0\n",
       "listed_intype        0\n",
       "listed_incity        0\n",
       "dtype: int64"
      ]
     },
     "execution_count": 43,
     "metadata": {},
     "output_type": "execute_result"
    }
   ],
   "source": [
    "# Check missing values\n",
    "df.isnull().sum()\n"
   ]
  },
  {
   "cell_type": "code",
   "execution_count": 44,
   "id": "c59d5e21-7790-4dc7-97d2-9b3d0b0e07cf",
   "metadata": {},
   "outputs": [],
   "source": [
    "df.dropna(subset=['rest_type', 'cuisines', 'dish_liked'], inplace=True)"
   ]
  },
  {
   "cell_type": "code",
   "execution_count": 45,
   "id": "dd18c1eb-07d5-477d-9897-7b9d19ed3e8e",
   "metadata": {},
   "outputs": [
    {
     "data": {
      "text/plain": [
       "online_order     0\n",
       "book_table       0\n",
       "rate             0\n",
       "votes            0\n",
       "rest_type        0\n",
       "dish_liked       0\n",
       "cuisines         0\n",
       "cost             0\n",
       "listed_intype    0\n",
       "listed_incity    0\n",
       "dtype: int64"
      ]
     },
     "execution_count": 45,
     "metadata": {},
     "output_type": "execute_result"
    }
   ],
   "source": [
    "df.isnull().sum()\n"
   ]
  },
  {
   "cell_type": "code",
   "execution_count": 46,
   "id": "a4628587-c020-4078-b547-c2c7fc5fbebb",
   "metadata": {},
   "outputs": [
    {
     "name": "stdout",
     "output_type": "stream",
     "text": [
      "Note: you may need to restart the kernel to use updated packages.Requirement already satisfied: folium in c:\\users\\premkumar bajaru\\appdata\\local\\packages\\pythonsoftwarefoundation.python.3.10_qbz5n2kfra8p0\\localcache\\local-packages\\python310\\site-packages (0.19.5)\n",
      "Requirement already satisfied: xyzservices in c:\\users\\premkumar bajaru\\appdata\\local\\packages\\pythonsoftwarefoundation.python.3.10_qbz5n2kfra8p0\\localcache\\local-packages\\python310\\site-packages (from folium) (2025.1.0)\n",
      "Requirement already satisfied: requests in c:\\users\\premkumar bajaru\\appdata\\local\\packages\\pythonsoftwarefoundation.python.3.10_qbz5n2kfra8p0\\localcache\\local-packages\\python310\\site-packages (from folium) (2.32.3)\n",
      "Requirement already satisfied: jinja2>=2.9 in c:\\users\\premkumar bajaru\\appdata\\local\\packages\\pythonsoftwarefoundation.python.3.10_qbz5n2kfra8p0\\localcache\\local-packages\\python310\\site-packages (from folium) (3.1.6)\n",
      "Requirement already satisfied: branca>=0.6.0 in c:\\users\\premkumar bajaru\\appdata\\local\\packages\\pythonsoftwarefoundation.python.3.10_qbz5n2kfra8p0\\localcache\\local-packages\\python310\\site-packages (from folium) (0.8.1)\n",
      "Requirement already satisfied: numpy in c:\\users\\premkumar bajaru\\appdata\\local\\packages\\pythonsoftwarefoundation.python.3.10_qbz5n2kfra8p0\\localcache\\local-packages\\python310\\site-packages (from folium) (2.2.4)\n",
      "Requirement already satisfied: MarkupSafe>=2.0 in c:\\users\\premkumar bajaru\\appdata\\local\\packages\\pythonsoftwarefoundation.python.3.10_qbz5n2kfra8p0\\localcache\\local-packages\\python310\\site-packages (from jinja2>=2.9->folium) (3.0.2)\n",
      "Requirement already satisfied: charset-normalizer<4,>=2 in c:\\users\\premkumar bajaru\\appdata\\local\\packages\\pythonsoftwarefoundation.python.3.10_qbz5n2kfra8p0\\localcache\\local-packages\\python310\\site-packages (from requests->folium) (3.4.1)\n",
      "Requirement already satisfied: urllib3<3,>=1.21.1 in c:\\users\\premkumar bajaru\\appdata\\local\\packages\\pythonsoftwarefoundation.python.3.10_qbz5n2kfra8p0\\localcache\\local-packages\\python310\\site-packages (from requests->folium) (2.4.0)\n",
      "Requirement already satisfied: idna<4,>=2.5 in c:\\users\\premkumar bajaru\\appdata\\local\\packages\\pythonsoftwarefoundation.python.3.10_qbz5n2kfra8p0\\localcache\\local-packages\\python310\\site-packages (from requests->folium) (3.10)\n",
      "Requirement already satisfied: certifi>=2017.4.17 in c:\\users\\premkumar bajaru\\appdata\\local\\packages\\pythonsoftwarefoundation.python.3.10_qbz5n2kfra8p0\\localcache\\local-packages\\python310\\site-packages (from requests->folium) (2025.1.31)\n",
      "\n"
     ]
    },
    {
     "name": "stderr",
     "output_type": "stream",
     "text": [
      "WARNING: There was an error checking the latest version of pip.\n"
     ]
    }
   ],
   "source": [
    "pip install folium\n"
   ]
  },
  {
   "cell_type": "code",
   "execution_count": 47,
   "id": "5ab7df2b-8606-4f3b-a236-e756a143fef5",
   "metadata": {},
   "outputs": [
    {
     "data": {
      "text/plain": [
       "rest_type\n",
       "Casual Dining         7424\n",
       "Quick Bites           5289\n",
       "Cafe                  2409\n",
       "Dessert Parlor        1086\n",
       "Casual Dining, Bar    1008\n",
       "Delivery               707\n",
       "Bar                    369\n",
       "Bar, Casual Dining     361\n",
       "Takeaway, Delivery     347\n",
       "Pub                    327\n",
       "Name: count, dtype: int64"
      ]
     },
     "execution_count": 47,
     "metadata": {},
     "output_type": "execute_result"
    }
   ],
   "source": [
    "df['rest_type'].value_counts().head(10)\n"
   ]
  },
  {
   "cell_type": "code",
   "execution_count": 48,
   "id": "495f166f-8b89-4833-9e90-1106c7996113",
   "metadata": {},
   "outputs": [
    {
     "data": {
      "text/plain": [
       "online_order\n",
       "Yes    16466\n",
       "No      7103\n",
       "Name: count, dtype: int64"
      ]
     },
     "execution_count": 48,
     "metadata": {},
     "output_type": "execute_result"
    }
   ],
   "source": [
    "df['online_order'].value_counts()\n"
   ]
  },
  {
   "cell_type": "code",
   "execution_count": 49,
   "id": "ac3fa448-7bd7-406b-9cbb-bdf4640ec8a8",
   "metadata": {},
   "outputs": [
    {
     "data": {
      "text/html": [
       "<div>\n",
       "<style scoped>\n",
       "    .dataframe tbody tr th:only-of-type {\n",
       "        vertical-align: middle;\n",
       "    }\n",
       "\n",
       "    .dataframe tbody tr th {\n",
       "        vertical-align: top;\n",
       "    }\n",
       "\n",
       "    .dataframe thead th {\n",
       "        text-align: right;\n",
       "    }\n",
       "</style>\n",
       "<table border=\"1\" class=\"dataframe\">\n",
       "  <thead>\n",
       "    <tr style=\"text-align: right;\">\n",
       "      <th></th>\n",
       "      <th>online_order</th>\n",
       "      <th>book_table</th>\n",
       "      <th>rate</th>\n",
       "      <th>votes</th>\n",
       "      <th>rest_type</th>\n",
       "      <th>dish_liked</th>\n",
       "      <th>cuisines</th>\n",
       "      <th>cost</th>\n",
       "      <th>listed_intype</th>\n",
       "      <th>listed_incity</th>\n",
       "    </tr>\n",
       "  </thead>\n",
       "  <tbody>\n",
       "    <tr>\n",
       "      <th>9099</th>\n",
       "      <td>Yes</td>\n",
       "      <td>Yes</td>\n",
       "      <td>4.9</td>\n",
       "      <td>2178</td>\n",
       "      <td>Casual Dining, Bar</td>\n",
       "      <td>Noodles, Chicken Dim Sum, Pad Thai Noodle, Jum...</td>\n",
       "      <td>Asian, Chinese, Thai, Momos</td>\n",
       "      <td>1500.0</td>\n",
       "      <td>Delivery</td>\n",
       "      <td>BTM</td>\n",
       "    </tr>\n",
       "    <tr>\n",
       "      <th>6746</th>\n",
       "      <td>No</td>\n",
       "      <td>Yes</td>\n",
       "      <td>4.9</td>\n",
       "      <td>2745</td>\n",
       "      <td>Casual Dining</td>\n",
       "      <td>Pizza, Mutton Kebab, Chicken Biryani, Sea Food...</td>\n",
       "      <td>Asian, Mediterranean, North Indian, BBQ</td>\n",
       "      <td>1400.0</td>\n",
       "      <td>Buffet</td>\n",
       "      <td>Brookefield</td>\n",
       "    </tr>\n",
       "    <tr>\n",
       "      <th>32436</th>\n",
       "      <td>Yes</td>\n",
       "      <td>Yes</td>\n",
       "      <td>4.9</td>\n",
       "      <td>2244</td>\n",
       "      <td>Casual Dining, Bar</td>\n",
       "      <td>Noodles, Chicken Dim Sum, Pad Thai Noodle, Jum...</td>\n",
       "      <td>Asian, Chinese, Thai, Momos</td>\n",
       "      <td>1500.0</td>\n",
       "      <td>Delivery</td>\n",
       "      <td>Koramangala 6th Block</td>\n",
       "    </tr>\n",
       "    <tr>\n",
       "      <th>45812</th>\n",
       "      <td>No</td>\n",
       "      <td>Yes</td>\n",
       "      <td>4.9</td>\n",
       "      <td>246</td>\n",
       "      <td>Casual Dining</td>\n",
       "      <td>Biryani, Tomato Soup, Farm Pizza, Dumplings, L...</td>\n",
       "      <td>Healthy Food, Salad, Mediterranean</td>\n",
       "      <td>1000.0</td>\n",
       "      <td>Dine-out</td>\n",
       "      <td>Old Airport Road</td>\n",
       "    </tr>\n",
       "    <tr>\n",
       "      <th>46253</th>\n",
       "      <td>Yes</td>\n",
       "      <td>Yes</td>\n",
       "      <td>4.9</td>\n",
       "      <td>1973</td>\n",
       "      <td>Casual Dining</td>\n",
       "      <td>Chicken Malai Tikka, Jalebi Rabri, Lunch Buffe...</td>\n",
       "      <td>North Indian, Mughlai</td>\n",
       "      <td>2000.0</td>\n",
       "      <td>Delivery</td>\n",
       "      <td>Rajajinagar</td>\n",
       "    </tr>\n",
       "    <tr>\n",
       "      <th>10879</th>\n",
       "      <td>Yes</td>\n",
       "      <td>Yes</td>\n",
       "      <td>4.9</td>\n",
       "      <td>2178</td>\n",
       "      <td>Casual Dining, Bar</td>\n",
       "      <td>Noodles, Chicken Dim Sum, Pad Thai Noodle, Jum...</td>\n",
       "      <td>Asian, Chinese, Thai, Momos</td>\n",
       "      <td>1500.0</td>\n",
       "      <td>Dine-out</td>\n",
       "      <td>BTM</td>\n",
       "    </tr>\n",
       "    <tr>\n",
       "      <th>26497</th>\n",
       "      <td>Yes</td>\n",
       "      <td>Yes</td>\n",
       "      <td>4.9</td>\n",
       "      <td>2215</td>\n",
       "      <td>Casual Dining, Bar</td>\n",
       "      <td>Chicken Dim Sum, Pad Thai Noodle, Jumbo Prawns...</td>\n",
       "      <td>Asian, Chinese, Thai, Momos</td>\n",
       "      <td>1500.0</td>\n",
       "      <td>Buffet</td>\n",
       "      <td>Koramangala 4th Block</td>\n",
       "    </tr>\n",
       "    <tr>\n",
       "      <th>29271</th>\n",
       "      <td>Yes</td>\n",
       "      <td>Yes</td>\n",
       "      <td>4.9</td>\n",
       "      <td>2235</td>\n",
       "      <td>Casual Dining, Bar</td>\n",
       "      <td>Noodles, Chicken Dim Sum, Pad Thai Noodle, Jum...</td>\n",
       "      <td>Asian, Chinese, Thai, Momos</td>\n",
       "      <td>1500.0</td>\n",
       "      <td>Buffet</td>\n",
       "      <td>Koramangala 5th Block</td>\n",
       "    </tr>\n",
       "    <tr>\n",
       "      <th>21279</th>\n",
       "      <td>No</td>\n",
       "      <td>Yes</td>\n",
       "      <td>4.9</td>\n",
       "      <td>6452</td>\n",
       "      <td>Casual Dining</td>\n",
       "      <td>Tangdi Chicken, Bbq Buffet, Chocolate Icecream...</td>\n",
       "      <td>European, Mediterranean, North Indian, BBQ</td>\n",
       "      <td>1600.0</td>\n",
       "      <td>Dine-out</td>\n",
       "      <td>Jayanagar</td>\n",
       "    </tr>\n",
       "    <tr>\n",
       "      <th>47987</th>\n",
       "      <td>Yes</td>\n",
       "      <td>No</td>\n",
       "      <td>4.9</td>\n",
       "      <td>1749</td>\n",
       "      <td>Dessert Parlor</td>\n",
       "      <td>Coffee, Berryblast, Nachos, Chocolate Waffles,...</td>\n",
       "      <td>Desserts</td>\n",
       "      <td>400.0</td>\n",
       "      <td>Desserts</td>\n",
       "      <td>Residency Road</td>\n",
       "    </tr>\n",
       "  </tbody>\n",
       "</table>\n",
       "</div>"
      ],
      "text/plain": [
       "      online_order book_table  rate  votes           rest_type  \\\n",
       "9099           Yes        Yes   4.9   2178  Casual Dining, Bar   \n",
       "6746            No        Yes   4.9   2745       Casual Dining   \n",
       "32436          Yes        Yes   4.9   2244  Casual Dining, Bar   \n",
       "45812           No        Yes   4.9    246       Casual Dining   \n",
       "46253          Yes        Yes   4.9   1973       Casual Dining   \n",
       "10879          Yes        Yes   4.9   2178  Casual Dining, Bar   \n",
       "26497          Yes        Yes   4.9   2215  Casual Dining, Bar   \n",
       "29271          Yes        Yes   4.9   2235  Casual Dining, Bar   \n",
       "21279           No        Yes   4.9   6452       Casual Dining   \n",
       "47987          Yes         No   4.9   1749      Dessert Parlor   \n",
       "\n",
       "                                              dish_liked  \\\n",
       "9099   Noodles, Chicken Dim Sum, Pad Thai Noodle, Jum...   \n",
       "6746   Pizza, Mutton Kebab, Chicken Biryani, Sea Food...   \n",
       "32436  Noodles, Chicken Dim Sum, Pad Thai Noodle, Jum...   \n",
       "45812  Biryani, Tomato Soup, Farm Pizza, Dumplings, L...   \n",
       "46253  Chicken Malai Tikka, Jalebi Rabri, Lunch Buffe...   \n",
       "10879  Noodles, Chicken Dim Sum, Pad Thai Noodle, Jum...   \n",
       "26497  Chicken Dim Sum, Pad Thai Noodle, Jumbo Prawns...   \n",
       "29271  Noodles, Chicken Dim Sum, Pad Thai Noodle, Jum...   \n",
       "21279  Tangdi Chicken, Bbq Buffet, Chocolate Icecream...   \n",
       "47987  Coffee, Berryblast, Nachos, Chocolate Waffles,...   \n",
       "\n",
       "                                         cuisines    cost listed_intype  \\\n",
       "9099                  Asian, Chinese, Thai, Momos  1500.0      Delivery   \n",
       "6746      Asian, Mediterranean, North Indian, BBQ  1400.0        Buffet   \n",
       "32436                 Asian, Chinese, Thai, Momos  1500.0      Delivery   \n",
       "45812          Healthy Food, Salad, Mediterranean  1000.0      Dine-out   \n",
       "46253                       North Indian, Mughlai  2000.0      Delivery   \n",
       "10879                 Asian, Chinese, Thai, Momos  1500.0      Dine-out   \n",
       "26497                 Asian, Chinese, Thai, Momos  1500.0        Buffet   \n",
       "29271                 Asian, Chinese, Thai, Momos  1500.0        Buffet   \n",
       "21279  European, Mediterranean, North Indian, BBQ  1600.0      Dine-out   \n",
       "47987                                    Desserts   400.0      Desserts   \n",
       "\n",
       "               listed_incity  \n",
       "9099                     BTM  \n",
       "6746             Brookefield  \n",
       "32436  Koramangala 6th Block  \n",
       "45812       Old Airport Road  \n",
       "46253            Rajajinagar  \n",
       "10879                    BTM  \n",
       "26497  Koramangala 4th Block  \n",
       "29271  Koramangala 5th Block  \n",
       "21279              Jayanagar  \n",
       "47987         Residency Road  "
      ]
     },
     "execution_count": 49,
     "metadata": {},
     "output_type": "execute_result"
    }
   ],
   "source": [
    "df.sort_values(by='rate', ascending=False).head(10)\n"
   ]
  },
  {
   "cell_type": "code",
   "execution_count": 50,
   "id": "566d4d26-c138-4492-b1a9-054efdb81eed",
   "metadata": {},
   "outputs": [
    {
     "data": {
      "text/plain": [
       "count    23569.000000\n",
       "mean       753.177479\n",
       "std        519.426642\n",
       "min         40.000000\n",
       "25%        400.000000\n",
       "50%        600.000000\n",
       "75%       1000.000000\n",
       "max       6000.000000\n",
       "Name: cost, dtype: float64"
      ]
     },
     "execution_count": 50,
     "metadata": {},
     "output_type": "execute_result"
    }
   ],
   "source": [
    "df['cost'].describe()\n"
   ]
  },
  {
   "cell_type": "code",
   "execution_count": 51,
   "id": "2891d729-9892-415b-bd05-f12128b8374c",
   "metadata": {},
   "outputs": [
    {
     "name": "stdout",
     "output_type": "stream",
     "text": [
      "Requirement already satisfied: folium in c:\\users\\premkumar bajaru\\appdata\\local\\packages\\pythonsoftwarefoundation.python.3.10_qbz5n2kfra8p0\\localcache\\local-packages\\python310\\site-packages (0.19.5)\n",
      "Requirement already satisfied: branca>=0.6.0 in c:\\users\\premkumar bajaru\\appdata\\local\\packages\\pythonsoftwarefoundation.python.3.10_qbz5n2kfra8p0\\localcache\\local-packages\\python310\\site-packages (from folium) (0.8.1)\n",
      "Requirement already satisfied: xyzservices in c:\\users\\premkumar bajaru\\appdata\\local\\packages\\pythonsoftwarefoundation.python.3.10_qbz5n2kfra8p0\\localcache\\local-packages\\python310\\site-packages (from folium) (2025.1.0)\n",
      "Requirement already satisfied: numpy in c:\\users\\premkumar bajaru\\appdata\\local\\packages\\pythonsoftwarefoundation.python.3.10_qbz5n2kfra8p0\\localcache\\local-packages\\python310\\site-packages (from folium) (2.2.4)\n",
      "Requirement already satisfied: jinja2>=2.9 in c:\\users\\premkumar bajaru\\appdata\\local\\packages\\pythonsoftwarefoundation.python.3.10_qbz5n2kfra8p0\\localcache\\local-packages\\python310\\site-packages (from folium) (3.1.6)\n",
      "Requirement already satisfied: requests in c:\\users\\premkumar bajaru\\appdata\\local\\packages\\pythonsoftwarefoundation.python.3.10_qbz5n2kfra8p0\\localcache\\local-packages\\python310\\site-packages (from folium) (2.32.3)\n",
      "Requirement already satisfied: MarkupSafe>=2.0 in c:\\users\\premkumar bajaru\\appdata\\local\\packages\\pythonsoftwarefoundation.python.3.10_qbz5n2kfra8p0\\localcache\\local-packages\\python310\\site-packages (from jinja2>=2.9->folium) (3.0.2)\n",
      "Requirement already satisfied: urllib3<3,>=1.21.1 in c:\\users\\premkumar bajaru\\appdata\\local\\packages\\pythonsoftwarefoundation.python.3.10_qbz5n2kfra8p0\\localcache\\local-packages\\python310\\site-packages (from requests->folium) (2.4.0)\n",
      "Requirement already satisfied: charset-normalizer<4,>=2 in c:\\users\\premkumar bajaru\\appdata\\local\\packages\\pythonsoftwarefoundation.python.3.10_qbz5n2kfra8p0\\localcache\\local-packages\\python310\\site-packages (from requests->folium) (3.4.1)\n",
      "Requirement already satisfied: idna<4,>=2.5 in c:\\users\\premkumar bajaru\\appdata\\local\\packages\\pythonsoftwarefoundation.python.3.10_qbz5n2kfra8p0\\localcache\\local-packages\\python310\\site-packages (from requests->folium) (3.10)\n",
      "Requirement already satisfied: certifi>=2017.4.17 in c:\\users\\premkumar bajaru\\appdata\\local\\packages\\pythonsoftwarefoundation.python.3.10_qbz5n2kfra8p0\\localcache\\local-packages\\python310\\site-packages (from requests->folium) (2025.1.31)\n",
      "Note: you may need to restart the kernel to use updated packages.\n"
     ]
    },
    {
     "name": "stderr",
     "output_type": "stream",
     "text": [
      "WARNING: There was an error checking the latest version of pip.\n"
     ]
    }
   ],
   "source": [
    "pip install folium\n"
   ]
  },
  {
   "cell_type": "code",
   "execution_count": 52,
   "id": "ef86c379-af8f-4920-9c9b-21d64273dfab",
   "metadata": {},
   "outputs": [],
   "source": [
    "import folium\n",
    "from folium.plugins import MarkerCluster\n"
   ]
  },
  {
   "cell_type": "code",
   "execution_count": 53,
   "id": "5c618a94-763b-4710-bac5-77e099153b84",
   "metadata": {},
   "outputs": [
    {
     "data": {
      "text/plain": [
       "array(['Banashankari', 'Bannerghatta Road', 'Basavanagudi', 'Bellandur',\n",
       "       'Brigade Road', 'Brookefield', 'BTM', 'Church Street',\n",
       "       'Electronic City', 'Frazer Town', 'HSR', 'Indiranagar',\n",
       "       'Jayanagar', 'JP Nagar', 'Kalyan Nagar', 'Kammanahalli',\n",
       "       'Koramangala 4th Block', 'Koramangala 5th Block',\n",
       "       'Koramangala 6th Block', 'Koramangala 7th Block', 'Lavelle Road',\n",
       "       'Malleshwaram', 'Marathahalli', 'MG Road', 'New BEL Road',\n",
       "       'Old Airport Road', 'Rajajinagar', 'Residency Road',\n",
       "       'Sarjapur Road', 'Whitefield'], dtype=object)"
      ]
     },
     "execution_count": 53,
     "metadata": {},
     "output_type": "execute_result"
    }
   ],
   "source": [
    "df['listed_incity'].unique()\n"
   ]
  },
  {
   "cell_type": "code",
   "execution_count": 54,
   "id": "30c5f3a9-499b-43d7-8159-e4038d88b759",
   "metadata": {},
   "outputs": [
    {
     "data": {
      "image/png": "[encoded data removed]",
      "text/plain": [
       "<Figure size 1200x600 with 1 Axes>"
      ]
     },
     "metadata": {},
     "output_type": "display_data"
    }
   ],
   "source": [
    "plt.figure(figsize=(12,6))\n",
    "sns.countplot(\n",
    "    data=df,\n",
    "    y='listed_incity',\n",
    "    hue='listed_incity',\n",
    "    order=df['listed_incity'].value_counts().head(10).index,\n",
    "    palette='Set2',\n",
    "    legend=False  \n",
    ")\n",
    "plt.title('Top 10 Areas with Most Restaurants')\n",
    "plt.xlabel('Number of Restaurants')\n",
    "plt.ylabel('Location')\n",
    "plt.tight_layout()\n",
    "plt.show()\n"
   ]
  },
  {
   "cell_type": "code",
   "execution_count": 55,
   "id": "17bebd34-7b86-4be9-b557-0b25a6b01a60",
   "metadata": {},
   "outputs": [
    {
     "data": {
      "image/png": "[encoded data removed]",
      "text/plain": [
       "<Figure size 1000x600 with 1 Axes>"
      ]
     },
     "metadata": {},
     "output_type": "display_data"
    }
   ],
   "source": [
    "top_cuisines = df['cuisines'].value_counts().head(10)\n",
    "top_cuisines.plot(kind='barh', color='skyblue', figsize=(10,6), title='Top 10 Cuisines in Bangalore')\n",
    "plt.xlabel(\"Number of Restaurants\")\n",
    "plt.gca().invert_yaxis()\n",
    "plt.show()\n"
   ]
  },
  {
   "cell_type": "code",
   "execution_count": 56,
   "id": "212a8fc4-4644-4964-a061-0d015fd30221",
   "metadata": {},
   "outputs": [
    {
     "data": {
      "text/html": [
       "<div>\n",
       "<style scoped>\n",
       "    .dataframe tbody tr th:only-of-type {\n",
       "        vertical-align: middle;\n",
       "    }\n",
       "\n",
       "    .dataframe tbody tr th {\n",
       "        vertical-align: top;\n",
       "    }\n",
       "\n",
       "    .dataframe thead th {\n",
       "        text-align: right;\n",
       "    }\n",
       "</style>\n",
       "<table border=\"1\" class=\"dataframe\">\n",
       "  <thead>\n",
       "    <tr style=\"text-align: right;\">\n",
       "      <th></th>\n",
       "      <th>online_order</th>\n",
       "      <th>book_table</th>\n",
       "      <th>rate</th>\n",
       "      <th>votes</th>\n",
       "      <th>rest_type</th>\n",
       "      <th>dish_liked</th>\n",
       "      <th>cuisines</th>\n",
       "      <th>cost</th>\n",
       "      <th>listed_intype</th>\n",
       "      <th>listed_incity</th>\n",
       "      <th>Latitude</th>\n",
       "      <th>Longitude</th>\n",
       "    </tr>\n",
       "  </thead>\n",
       "  <tbody>\n",
       "    <tr>\n",
       "      <th>0</th>\n",
       "      <td>Yes</td>\n",
       "      <td>Yes</td>\n",
       "      <td>4.1</td>\n",
       "      <td>775</td>\n",
       "      <td>Casual Dining</td>\n",
       "      <td>Pasta, Lunch Buffet, Masala Papad, Paneer Laja...</td>\n",
       "      <td>North Indian, Mughlai, Chinese</td>\n",
       "      <td>800.0</td>\n",
       "      <td>Buffet</td>\n",
       "      <td>Banashankari</td>\n",
       "      <td>12.939333</td>\n",
       "      <td>77.553982</td>\n",
       "    </tr>\n",
       "    <tr>\n",
       "      <th>1</th>\n",
       "      <td>Yes</td>\n",
       "      <td>No</td>\n",
       "      <td>4.1</td>\n",
       "      <td>787</td>\n",
       "      <td>Casual Dining</td>\n",
       "      <td>Momos, Lunch Buffet, Chocolate Nirvana, Thai G...</td>\n",
       "      <td>Chinese, North Indian, Thai</td>\n",
       "      <td>800.0</td>\n",
       "      <td>Buffet</td>\n",
       "      <td>Banashankari</td>\n",
       "      <td>12.939333</td>\n",
       "      <td>77.553982</td>\n",
       "    </tr>\n",
       "    <tr>\n",
       "      <th>2</th>\n",
       "      <td>Yes</td>\n",
       "      <td>No</td>\n",
       "      <td>3.8</td>\n",
       "      <td>918</td>\n",
       "      <td>Cafe, Casual Dining</td>\n",
       "      <td>Churros, Cannelloni, Minestrone Soup, Hot Choc...</td>\n",
       "      <td>Cafe, Mexican, Italian</td>\n",
       "      <td>800.0</td>\n",
       "      <td>Buffet</td>\n",
       "      <td>Banashankari</td>\n",
       "      <td>12.939333</td>\n",
       "      <td>77.553982</td>\n",
       "    </tr>\n",
       "    <tr>\n",
       "      <th>3</th>\n",
       "      <td>No</td>\n",
       "      <td>No</td>\n",
       "      <td>3.7</td>\n",
       "      <td>88</td>\n",
       "      <td>Quick Bites</td>\n",
       "      <td>Masala Dosa</td>\n",
       "      <td>South Indian, North Indian</td>\n",
       "      <td>300.0</td>\n",
       "      <td>Buffet</td>\n",
       "      <td>Banashankari</td>\n",
       "      <td>12.939333</td>\n",
       "      <td>77.553982</td>\n",
       "    </tr>\n",
       "    <tr>\n",
       "      <th>4</th>\n",
       "      <td>No</td>\n",
       "      <td>No</td>\n",
       "      <td>3.8</td>\n",
       "      <td>166</td>\n",
       "      <td>Casual Dining</td>\n",
       "      <td>Panipuri, Gol Gappe</td>\n",
       "      <td>North Indian, Rajasthani</td>\n",
       "      <td>600.0</td>\n",
       "      <td>Buffet</td>\n",
       "      <td>Banashankari</td>\n",
       "      <td>12.939333</td>\n",
       "      <td>77.553982</td>\n",
       "    </tr>\n",
       "  </tbody>\n",
       "</table>\n",
       "</div>"
      ],
      "text/plain": [
       "  online_order book_table  rate  votes            rest_type  \\\n",
       "0          Yes        Yes   4.1    775        Casual Dining   \n",
       "1          Yes         No   4.1    787        Casual Dining   \n",
       "2          Yes         No   3.8    918  Cafe, Casual Dining   \n",
       "3           No         No   3.7     88          Quick Bites   \n",
       "4           No         No   3.8    166        Casual Dining   \n",
       "\n",
       "                                          dish_liked  \\\n",
       "0  Pasta, Lunch Buffet, Masala Papad, Paneer Laja...   \n",
       "1  Momos, Lunch Buffet, Chocolate Nirvana, Thai G...   \n",
       "2  Churros, Cannelloni, Minestrone Soup, Hot Choc...   \n",
       "3                                        Masala Dosa   \n",
       "4                                Panipuri, Gol Gappe   \n",
       "\n",
       "                         cuisines   cost listed_intype listed_incity  \\\n",
       "0  North Indian, Mughlai, Chinese  800.0        Buffet  Banashankari   \n",
       "1     Chinese, North Indian, Thai  800.0        Buffet  Banashankari   \n",
       "2          Cafe, Mexican, Italian  800.0        Buffet  Banashankari   \n",
       "3      South Indian, North Indian  300.0        Buffet  Banashankari   \n",
       "4        North Indian, Rajasthani  600.0        Buffet  Banashankari   \n",
       "\n",
       "    Latitude  Longitude  \n",
       "0  12.939333  77.553982  \n",
       "1  12.939333  77.553982  \n",
       "2  12.939333  77.553982  \n",
       "3  12.939333  77.553982  \n",
       "4  12.939333  77.553982  "
      ]
     },
     "execution_count": 56,
     "metadata": {},
     "output_type": "execute_result"
    }
   ],
   "source": [
    "geo_df = pd.read_csv(r\"C:\\Users\\PREMKUMAR BAJARU\\Desktop\\Food-and-Restaurant-Data-Analysis-Hackathon\\Geographical Coordinates.csv\")\n",
    "merged_df = pd.merge(df, geo_df, on='listed_incity', how='left')\n",
    "merged_df.head()"
   ]
  },
  {
   "cell_type": "code",
   "execution_count": 64,
   "id": "59d427aa-6b24-47d7-890a-ed509e3f4cdb",
   "metadata": {},
   "outputs": [],
   "source": [
    "merged_df.to_csv(\"Merged_Zomato_Data.csv\", index=False)\n"
   ]
  },
  {
   "cell_type": "code",
   "execution_count": 58,
   "id": "f411803a-b2a5-401f-9f6d-e67530015d2f",
   "metadata": {},
   "outputs": [
    {
     "data": {
      "text/plain": [
       "<folium.plugins.heat_map.HeatMap at 0x1719f0bb3a0>"
      ]
     },
     "execution_count": 58,
     "metadata": {},
     "output_type": "execute_result"
    }
   ],
   "source": [
    "from folium.plugins import HeatMap\n",
    "\n",
    "heat_df = merged_df.dropna(subset=['Latitude', 'Longitude'])\n",
    "\n",
    "heat_data = [[row['Latitude'], row['Longitude']] for index, row in heat_df.iterrows()]\n",
    "\n",
    "bangalore_map = folium.Map(location=[12.9716, 77.5946], zoom_start=11)\n",
    "HeatMap(heat_data, radius=10).add_to(bangalore_map)\n"
   ]
  },
  {
   "cell_type": "code",
   "execution_count": 59,
   "id": "ab2b60a3-23dc-4d09-a6b5-861cd7b4b0ee",
   "metadata": {},
   "outputs": [],
   "source": [
    "italian_df = merged_df[merged_df['cuisines'].str.contains(\"Italian\", na=False)]\n",
    "italian_map = folium.Map(location=[12.9716, 77.5946], zoom_start=11)\n",
    "marker_cluster = MarkerCluster().add_to(italian_map)\n",
    "for index, row in italian_df.iterrows():\n",
    "    if pd.notnull(row['Latitude']) and pd.notnull(row['Longitude']):\n",
    "        folium.Marker(\n",
    "            location=[row['Latitude'], row['Longitude']],\n",
    "            popup=f\"Cuisine: Italian\\nRating: {row['rate']}/5\",\n",
    "            tooltip=row['listed_incity']\n",
    "        ).add_to(marker_cluster)\n"
   ]
  },
  {
   "cell_type": "code",
   "execution_count": 62,
   "id": "4757b125-db01-4e1b-9fef-1e67cffca1b3",
   "metadata": {},
   "outputs": [],
   "source": [
    "italian_map.save(\"Italian_Restaurants_Map.html\")\n",
    "bangalore_map.save(\"Restaurant_Density_Heatmap.html\")\n"
   ]
  },
  {
   "cell_type": "markdown",
   "id": "9b510fda",
   "metadata": {
    "id": "maAVblZxPpJ-"
   },
   "source": [
    "# **MCQ-based Question's Answers**"
   ]
  },
  {
   "cell_type": "markdown",
   "id": "115e9ff4",
   "metadata": {
    "id": "xHq6iUHyP2Ly"
   },
   "source": [
    "## **Q1. What is the shape of the given dataset?**"
   ]
  },
  {
   "cell_type": "code",
   "execution_count": null,
   "id": "b1fa2a33",
   "metadata": {
    "colab": {
     "base_uri": "https://localhost:8080/"
    },
    "id": "XdM3igbvPyAW",
    "outputId": "556a7389-b3bb-41a8-9ebe-1acd7c21ac66"
   },
   "outputs": [
    {
     "data": {
      "text/plain": [
       "(51717, 10)"
      ]
     },
     "execution_count": 66,
     "metadata": {},
     "output_type": "execute_result"
    }
   ],
   "source": [
    "zomato_data.shape"
   ]
  },
  {
   "cell_type": "markdown",
   "id": "e1d7baf0",
   "metadata": {
    "id": "Vn_L6CWbQALJ"
   },
   "source": [
    "## **Q2. How many restaurants serve North Indian cuisine?**"
   ]
  },
  {
   "cell_type": "code",
   "execution_count": null,
   "id": "fa7904d4",
   "metadata": {
    "colab": {
     "base_uri": "https://localhost:8080/"
    },
    "id": "jSBT43cnP9VG",
    "outputId": "540832ae-f27e-4047-ddaf-451fc482409b"
   },
   "outputs": [
    {
     "data": {
      "text/plain": [
       "21085"
      ]
     },
     "execution_count": 67,
     "metadata": {},
     "output_type": "execute_result"
    }
   ],
   "source": [
    "zomato_data[zomato_data['cuisines'].str.contains('North Indian', na=False)].shape[0]\n"
   ]
  },
  {
   "cell_type": "markdown",
   "id": "fe9b7f4b",
   "metadata": {
    "id": "eIwifdBMQG7B"
   },
   "source": [
    "## **Q3: Most commonly offered cuisine:**"
   ]
  },
  {
   "cell_type": "code",
   "execution_count": null,
   "id": "dd8da595",
   "metadata": {
    "colab": {
     "base_uri": "https://localhost:8080/",
     "height": 35
    },
    "id": "WwHE4akJQEJP",
    "outputId": "d3529801-acb5-4ef2-da81-410936f15860"
   },
   "outputs": [
    {
     "data": {
      "application/vnd.google.colaboratory.intrinsic+json": {
       "type": "string"
      },
      "text/plain": [
       "'North Indian'"
      ]
     },
     "execution_count": 73,
     "metadata": {},
     "output_type": "execute_result"
    }
   ],
   "source": [
    "from collections import Counter\n",
    "import itertools\n",
    "\n",
    "# Split cuisines and flatten the list\n",
    "cuisine_series = Zomato_data['cuisines'].dropna().apply(lambda x: [i.strip() for i in x.split(',')])\n",
    "all_cuisines = list(itertools.chain.from_iterable(cuisine_series))\n",
    "\n",
    "# Get the most common cuisine\n",
    "most_common_cuisine = Counter(all_cuisines).most_common(1)[0][0]\n",
    "most_common_cuisine\n"
   ]
  },
  {
   "cell_type": "markdown",
   "id": "9f9a84a0",
   "metadata": {
    "id": "7xSDUyeMQ6Pb"
   },
   "source": [
    "## **Q4: Which locality in Bangalore has the highest average cost for dining (for two people)?**"
   ]
  },
  {
   "cell_type": "code",
   "execution_count": null,
   "id": "74cdc3c1",
   "metadata": {
    "colab": {
     "base_uri": "https://localhost:8080/",
     "height": 35
    },
    "id": "U4obqXE7Q7uW",
    "outputId": "f82be72b-f938-4de2-df69-42b0ac8aad66"
   },
   "outputs": [
    {
     "data": {
      "application/vnd.google.colaboratory.intrinsic+json": {
       "type": "string"
      },
      "text/plain": [
       "'Church Street'"
      ]
     },
     "execution_count": 70,
     "metadata": {},
     "output_type": "execute_result"
    }
   ],
   "source": [
    "# Grouping by locality and calculating the average cost\n",
    "avg_cost_by_locality = merged_datasets.groupby('listed_incity')['approx_costfor_two_people'].mean().sort_values(ascending=False)\n",
    "\n",
    "# Showing the locality with highest average cost\n",
    "highest_avg_cost_locality = avg_cost_by_locality.idxmax()\n",
    "highest_avg_cost_locality\n"
   ]
  },
  {
   "cell_type": "markdown",
   "id": "be3fa789",
   "metadata": {
    "id": "6nTDjO8bSMqQ"
   },
   "source": [
    "## **Q5: Which restaurant type has the top rating with over 1000 votes?**"
   ]
  },
  {
   "cell_type": "code",
   "execution_count": null,
   "id": "73affe0e",
   "metadata": {
    "colab": {
     "base_uri": "https://localhost:8080/",
     "height": 36
    },
    "id": "HxRk4CniUfja",
    "outputId": "243dd6e6-ee05-45a5-d70a-28d9dddeaceb"
   },
   "outputs": [
    {
     "data": {
      "application/vnd.google.colaboratory.intrinsic+json": {
       "type": "string"
      },
      "text/plain": [
       "'Bakery'"
      ]
     },
     "execution_count": 83,
     "metadata": {},
     "output_type": "execute_result"
    }
   ],
   "source": [
    "# Filtering restaurants with more than 1000 votes\n",
    "votes_1000 = merged_datasets[merged_datasets['votes'] > 1000]\n",
    "\n",
    "# Grouping by restaurant type and finding the one with highest average rating\n",
    "top_rest_type = votes_1000.groupby('rest_type')['rate'].mean().sort_values(ascending=False).idxmax()\n",
    "top_rest_type\n"
   ]
  },
  {
   "cell_type": "markdown",
   "id": "a84c1c84",
   "metadata": {
    "id": "c4hpaPcxUWFM"
   },
   "source": [
    "## **Q6: Minimum cost to eat out in Bangalore**"
   ]
  },
  {
   "cell_type": "code",
   "execution_count": null,
   "id": "1a140874",
   "metadata": {
    "colab": {
     "base_uri": "https://localhost:8080/"
    },
    "id": "xO1qpVshUgHa",
    "outputId": "851878f1-2401-44ce-d1cd-718869ea67de"
   },
   "outputs": [
    {
     "data": {
      "text/plain": [
       "40"
      ]
     },
     "execution_count": 103,
     "metadata": {},
     "output_type": "execute_result"
    }
   ],
   "source": [
    "# Getting the minimum cost value\n",
    "min_cost = merged_datasets['approx_costfor_two_people'].min()\n",
    "min_cost\n"
   ]
  },
  {
   "cell_type": "markdown",
   "id": "5fce0b6d",
   "metadata": {
    "id": "-kX2iLwpUac7"
   },
   "source": [
    "## **Q7: Percentage of online orders in Banashankari**"
   ]
  },
  {
   "cell_type": "code",
   "execution_count": null,
   "id": "a654d3b6",
   "metadata": {
    "colab": {
     "base_uri": "https://localhost:8080/"
    },
    "id": "2EnbZm2yUgmC",
    "outputId": "4307fd9c-380b-4eb8-9a84-296d3ddca80d"
   },
   "outputs": [
    {
     "data": {
      "text/plain": [
       "63.26767091541136"
      ]
     },
     "execution_count": 115,
     "metadata": {},
     "output_type": "execute_result"
    }
   ],
   "source": [
    "# Filtering for Banashankari\n",
    "banashankari_orders = merged_datasets[merged_datasets['listed_incity'] == 'Banashankari']\n",
    "\n",
    "# Counting online order restaurants in Banashankari\n",
    "online_orders = banashankari_orders[banashankari_orders['online_order'] == 'Yes'].shape[0]\n",
    "\n",
    "# Total restaurants in Banashankari\n",
    "total_banashankari = banashankari_orders.shape[0]\n",
    "\n",
    "# Calculating percentage\n",
    "percentage_online = (online_orders / total_banashankari) * 100\n",
    "percentage_online\n"
   ]
  },
  {
   "cell_type": "markdown",
   "id": "a29ca8a2",
   "metadata": {
    "id": "81LJvHmoUdz3"
   },
   "source": [
    "## **Q8: Locality with most restaurants with >500 votes & rating <3.0**"
   ]
  },
  {
   "cell_type": "code",
   "execution_count": null,
   "id": "b0bbb0f2",
   "metadata": {
    "colab": {
     "base_uri": "https://localhost:8080/",
     "height": 36
    },
    "id": "i0Xls-M_UKkS",
    "outputId": "4b257a31-2ff4-46fa-c9c2-ca952df8b914"
   },
   "outputs": [
    {
     "data": {
      "application/vnd.google.colaboratory.intrinsic+json": {
       "type": "string"
      },
      "text/plain": [
       "'Brookefield'"
      ]
     },
     "execution_count": 84,
     "metadata": {},
     "output_type": "execute_result"
    }
   ],
   "source": [
    "# Filtering based on condition\n",
    "low_rating_votes = merged_datasets[(merged_datasets['votes'] > 500) & (merged_datasets['rate'] < 3.0)]\n",
    "\n",
    "# Finding locality with most such restaurants\n",
    "most_common_locality = low_rating_votes['listed_incity'].value_counts().idxmax()\n",
    "most_common_locality\n"
   ]
  },
  {
   "cell_type": "markdown",
   "id": "eee1d16b",
   "metadata": {
    "id": "iC6XNsArU_gl"
   },
   "source": [
    "## **Q9: Locality with most diverse restaurant types**"
   ]
  },
  {
   "cell_type": "code",
   "execution_count": null,
   "id": "15eb302d",
   "metadata": {
    "colab": {
     "base_uri": "https://localhost:8080/",
     "height": 36
    },
    "id": "cj-cz5fzU58f",
    "outputId": "57abc072-0ef7-45e0-d53a-8fa8bede95de"
   },
   "outputs": [
    {
     "data": {
      "application/vnd.google.colaboratory.intrinsic+json": {
       "type": "string"
      },
      "text/plain": [
       "'BTM'"
      ]
     },
     "execution_count": 85,
     "metadata": {},
     "output_type": "execute_result"
    }
   ],
   "source": [
    "# Counting unique restaurant types per locality\n",
    "diversity = merged_datasets.groupby('listed_incity')['rest_type'].nunique()\n",
    "\n",
    "# Finding locality with highest diversity\n",
    "most_diverse = diversity.idxmax()\n",
    "most_diverse\n"
   ]
  },
  {
   "cell_type": "markdown",
   "id": "36482504",
   "metadata": {
    "id": "5AoeWaQXVCrS"
   },
   "source": [
    "## **Q10: Average cost difference between buffet and delivery restaurants**"
   ]
  },
  {
   "cell_type": "code",
   "execution_count": null,
   "id": "3215e9c1",
   "metadata": {
    "colab": {
     "base_uri": "https://localhost:8080/"
    },
    "id": "6MWeHqJ9U9Vn",
    "outputId": "8d15ee41-c87d-42b5-b493-0bf0a4143e3b"
   },
   "outputs": [
    {
     "name": "stdout",
     "output_type": "stream",
     "text": [
      "Buffet Avg Cost: ₹nan\n",
      "Delivery Avg Cost: ₹414.2521408182683\n",
      "Cost Difference: ₹nan\n"
     ]
    }
   ],
   "source": [
    "# Filter data for Buffet and Delivery restaurants\n",
    "buffet_cost = merged_datasets[merged_datasets['rest_type'].str.contains('Buffet', na=False)]['approx_costfor_two_people']\n",
    "delivery_cost = merged_datasets[merged_datasets['rest_type'].str.contains('Delivery', na=False)]['approx_costfor_two_people']\n",
    "\n",
    "# Calculate average costs\n",
    "buffet_avg_cost = buffet_cost.mean()\n",
    "delivery_avg_cost = delivery_cost.mean()\n",
    "\n",
    "# Calculate the cost difference\n",
    "cost_difference = abs(buffet_avg_cost - delivery_avg_cost)\n",
    "\n",
    "# Print the results\n",
    "print(f\"Buffet Avg Cost: ₹{buffet_avg_cost}\")\n",
    "print(f\"Delivery Avg Cost: ₹{delivery_avg_cost}\")\n",
    "print(f\"Cost Difference: ₹{cost_difference}\")\n"
   ]
  },
  {
   "cell_type": "markdown",
   "id": "040d208e",
   "metadata": {
    "id": "i4lgd6y1VR_r"
   },
   "source": [
    "## **Q11: Max votes for any restaurant with online ordering**"
   ]
  },
  {
   "cell_type": "code",
   "execution_count": null,
   "id": "cb32c66b",
   "metadata": {
    "colab": {
     "base_uri": "https://localhost:8080/"
    },
    "id": "OElJTrQsVKvA",
    "outputId": "c2f313c1-4ec3-453b-c56f-0240357d7b78"
   },
   "outputs": [
    {
     "data": {
      "text/plain": [
       "16345"
      ]
     },
     "execution_count": 99,
     "metadata": {},
     "output_type": "execute_result"
    }
   ],
   "source": [
    "# Filtering for online ordering restaurants\n",
    "online_restaurants = merged_datasets[merged_datasets['online_order'] == 'Yes']\n",
    "\n",
    "# Getting maximum votes\n",
    "max_votes = online_restaurants['votes'].max()\n",
    "max_votes\n"
   ]
  },
  {
   "cell_type": "markdown",
   "id": "126dca0c",
   "metadata": {
    "id": "OP8eETlLVYPz"
   },
   "source": [
    "## **Q12: Average rating of restaurants serving both North Indian & Chinese**"
   ]
  },
  {
   "cell_type": "code",
   "execution_count": null,
   "id": "dce80128",
   "metadata": {
    "colab": {
     "base_uri": "https://localhost:8080/"
    },
    "id": "VQ4w75OGVVKf",
    "outputId": "1fb8af0a-6a0e-4e8f-8f69-7569a7c4f8bd"
   },
   "outputs": [
    {
     "name": "stdout",
     "output_type": "stream",
     "text": [
      "3.5948912294517177\n"
     ]
    }
   ],
   "source": [
    "# Filtering restaurants offering both cuisines\n",
    "ni_ch = merged_datasets[merged_datasets['cuisines'].str.contains(\"North Indian\", na=False) &\n",
    "                        merged_datasets['cuisines'].str.contains(\"Chinese\", na=False)]\n",
    "\n",
    "# Average rating\n",
    "avg_rating = ni_ch['rate'].mean()\n",
    "print(format(avg_rating))\n"
   ]
  },
  {
   "cell_type": "markdown",
   "id": "36e37f34",
   "metadata": {
    "id": "4GNa1i3IVbzj"
   },
   "source": [
    "## **Q13: Most profitable area (based on revenue = rating * cost * votes)**"
   ]
  },
  {
   "cell_type": "code",
   "execution_count": null,
   "id": "08baf598",
   "metadata": {
    "colab": {
     "base_uri": "https://localhost:8080/",
     "height": 36
    },
    "id": "JrkOvjSoVdiH",
    "outputId": "90e046c3-efdd-4fc9-9d37-9d7f32242fac"
   },
   "outputs": [
    {
     "data": {
      "application/vnd.google.colaboratory.intrinsic+json": {
       "type": "string"
      },
      "text/plain": [
       "'Koramangala 7th Block'"
      ]
     },
     "execution_count": 96,
     "metadata": {},
     "output_type": "execute_result"
    }
   ],
   "source": [
    "# Creating a new column for potential revenue estimation\n",
    "merged_datasets['potential_revenue'] = merged_datasets['rate'] * merged_datasets['approx_costfor_two_people'] * merged_datasets['votes']\n",
    "\n",
    "# Grouping by area and summing revenue\n",
    "revenue_by_area = merged_datasets.groupby('listed_incity')['potential_revenue'].sum()\n",
    "\n",
    "# Most profitable area\n",
    "most_profitable_area = revenue_by_area.idxmax()\n",
    "most_profitable_area\n"
   ]
  },
  {
   "cell_type": "markdown",
   "id": "b7c9efee",
   "metadata": {
    "id": "Nv3U7KmqVjNH"
   },
   "source": [
    "## **Q14: Restaurant type with lowest avg rating (focus on complaints)**"
   ]
  },
  {
   "cell_type": "code",
   "execution_count": null,
   "id": "48d69276",
   "metadata": {
    "colab": {
     "base_uri": "https://localhost:8080/",
     "height": 36
    },
    "id": "Jp0wUkpkVhSH",
    "outputId": "3632008f-d2c5-456c-bc25-786f5223bc25"
   },
   "outputs": [
    {
     "data": {
      "application/vnd.google.colaboratory.intrinsic+json": {
       "type": "string"
      },
      "text/plain": [
       "'Dessert Parlor, Kiosk'"
      ]
     },
     "execution_count": 105,
     "metadata": {},
     "output_type": "execute_result"
    }
   ],
   "source": [
    "# Dropping rows with missing values in columns\n",
    "filtered_df = Zomato_data.dropna(subset=['rate', 'rest_type'])\n",
    "\n",
    "# calculate average rating\n",
    "rest_type_rating = filtered_df.groupby('rest_type')['rate'].mean().sort_values()\n",
    "\n",
    "#  the restaurant type with the lowest average rating\n",
    "lowest_rated_rest_type = rest_type_rating.idxmin()\n",
    "\n",
    "lowest_rated_rest_type"
   ]
  },
  {
   "cell_type": "markdown",
   "id": "c599fb20",
   "metadata": {
    "id": "ZA1A8L4gVnMJ"
   },
   "source": [
    "## **Q15: Area with high rating (>4.2), high votes (>500), and online order**"
   ]
  },
  {
   "cell_type": "code",
   "execution_count": null,
   "id": "dd65f311",
   "metadata": {
    "colab": {
     "base_uri": "https://localhost:8080/",
     "height": 36
    },
    "id": "6B0bwYCyVoVh",
    "outputId": "058f407b-b4d6-438f-8862-bf8dffd98faa"
   },
   "outputs": [
    {
     "data": {
      "application/vnd.google.colaboratory.intrinsic+json": {
       "type": "string"
      },
      "text/plain": [
       "'Koramangala 7th Block'"
      ]
     },
     "execution_count": 94,
     "metadata": {},
     "output_type": "execute_result"
    }
   ],
   "source": [
    "# Filtering based on all 3 conditions\n",
    "top_picks = merged_datasets[(merged_datasets['rate'] > 4.2) &\n",
    "                            (merged_datasets['votes'] > 500) &\n",
    "                            (merged_datasets['online_order'] == 'Yes')]\n",
    "\n",
    "# Finding locality with most such restaurants\n",
    "best_area = top_picks['listed_incity'].value_counts().idxmax()\n",
    "best_area\n"
   ]
  }
 ],
 "metadata": {
  "kernelspec": {
   "display_name": "Python 3",
   "language": "python",
   "name": "python3"
  },
  "language_info": {
   "codemirror_mode": {
    "name": "ipython",
    "version": 3
   },
   "file_extension": ".py",
   "mimetype": "text/x-python",
   "name": "python",
   "nbconvert_exporter": "python",
   "pygments_lexer": "ipython3",
   "version": "3.10.11"
  }
 },
 "nbformat": 4,
 "nbformat_minor": 5
}
